{
 "cells": [
  {
   "cell_type": "markdown",
   "id": "f2804379-807e-49fa-accf-93d0851a691a",
   "metadata": {},
   "source": [
    "#First Program"
   ]
  },
  {
   "cell_type": "code",
   "execution_count": 20,
   "id": "1821edd0-19af-4a4b-b723-003c38d6bec0",
   "metadata": {},
   "outputs": [
    {
     "name": "stdout",
     "output_type": "stream",
     "text": [
      "<class 'int'>\n",
      "<class 'str'>\n",
      "<class 'bool'>\n",
      "<class 'float'>\n",
      "<class 'complex'>\n",
      "20000000000.0\n"
     ]
    }
   ],
   "source": [
    "x = -1\n",
    "print(type(x))\n",
    "\n",
    "y = \"thisisastring\"\n",
    "print(type(y))\n",
    "\n",
    "z = True\n",
    "print(type(z))\n",
    "\n",
    "p = 1.01\n",
    "print(type(p))\n",
    "\n",
    "q = -9j\n",
    "print(type(q))\n",
    "\n",
    "r = 2e10\n",
    "print(r)\n",
    "\n",
    "#We use a hash to run a comment in python."
   ]
  },
  {
   "cell_type": "code",
   "execution_count": 27,
   "id": "d2906cbc-33dc-4abf-a580-40f70d7e084a",
   "metadata": {},
   "outputs": [
    {
     "name": "stdout",
     "output_type": "stream",
     "text": [
      "3\n",
      "{1, 2, 3} (1, 2, 3) [1, 2, 3]\n",
      "<class 'set'>\n",
      "<class 'tuple'>\n",
      "<class 'list'>\n"
     ]
    }
   ],
   "source": [
    "#Casting\n",
    "\n",
    "x = int(1.1)\n",
    "y = int(2)\n",
    "z = int(\"3\")\n",
    "\n",
    "l = {x,y,z}\n",
    "m = (x,y,z)\n",
    "n = [x,y,z]\n",
    "\n",
    "#set, tuple, list\n",
    "print(l,m,n)\n",
    "print(type(l))\n",
    "print(type(m))\n",
    "print(type(n))"
   ]
  },
  {
   "cell_type": "code",
   "execution_count": 40,
   "id": "0d7c0abf-b283-42be-aceb-8c1761a1dfd1",
   "metadata": {},
   "outputs": [
    {
     "name": "stdout",
     "output_type": "stream",
     "text": [
      "apple an banan\n",
      "elppa\n",
      "appl\n",
      "ape\n"
     ]
    }
   ],
   "source": [
    "#print(\"Hello\")\n",
    "#print('Hello')\n",
    "#same\n",
    "\n",
    "#slicing strings\n",
    "a = \"apple\"\n",
    "b = \"mango\"\n",
    "c = \"banana\"\n",
    "\n",
    "print(a[0:],b[1:3],c[:-1])\n",
    "\n",
    "#reverse string\n",
    "print(a[::-1])\n",
    "\n",
    "#excludes last letter of string\n",
    "print(a[0:-1])\n",
    "\n",
    "#displays every 2nd element\n",
    "print(a[0: :2])"
   ]
  },
  {
   "cell_type": "code",
   "execution_count": 48,
   "id": "189783f9-59c3-4e09-9986-19e67ee85eb4",
   "metadata": {},
   "outputs": [
    {
     "name": "stdout",
     "output_type": "stream",
     "text": [
      "alabama\n",
      "NEWYORK\n",
      "Hell or Heaven\n",
      "['Hell', 'or', 'Heaven']\n",
      "lewyork\n"
     ]
    }
   ],
   "source": [
    "#Modifying strings\n",
    "\n",
    "str1 = 'ALABAMA'\n",
    "str2 = 'newyork'\n",
    "str3 = 'Hell or Heaven'\n",
    "\n",
    "print(str1.lower())\n",
    "print(str2.upper())\n",
    "print(str3.strip())\n",
    "print(str3.split(\" \"))\n",
    "print(str2.replace(\"n\",\"l\"))"
   ]
  },
  {
   "cell_type": "code",
   "execution_count": null,
   "id": "c54417eb-9f91-4df0-99de-7e23d0e68907",
   "metadata": {},
   "outputs": [],
   "source": []
  }
 ],
 "metadata": {
  "kernelspec": {
   "display_name": "Python 3 (ipykernel)",
   "language": "python",
   "name": "python3"
  },
  "language_info": {
   "codemirror_mode": {
    "name": "ipython",
    "version": 3
   },
   "file_extension": ".py",
   "mimetype": "text/x-python",
   "name": "python",
   "nbconvert_exporter": "python",
   "pygments_lexer": "ipython3",
   "version": "3.12.6"
  }
 },
 "nbformat": 4,
 "nbformat_minor": 5
}
