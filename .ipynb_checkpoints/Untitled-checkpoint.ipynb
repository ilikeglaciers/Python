{
 "cells": [
  {
   "cell_type": "markdown",
   "id": "b237d2e3-d531-478c-8779-da6328f00e79",
   "metadata": {},
   "source": [
    "#First Program"
   ]
  },
  {
   "cell_type": "code",
   "execution_count": null,
   "id": "64838e9a-9668-4abe-9661-20c19e8c735c",
   "metadata": {},
   "outputs": [],
   "source": [
    "print('Hello Publisher')\n",
    "1+2"
   ]
  },
  {
   "cell_type": "code",
   "execution_count": null,
   "id": "f04f01b0-3cbd-453d-a357-8ad05ae4f214",
   "metadata": {},
   "outputs": [],
   "source": [
    "import numpy as np\n",
    "import matplotlib\n",
    "import matplotlib.pylab as plt\n",
    "\n",
    "t=np.arange(0.0,2.0,0.01)\n",
    "s=1+np.sin(2*np.pi*t)\n",
    "\n",
    "fig,ax=plt.subplots()\n",
    "ax.plot(t,s)\n",
    "\n",
    "ax.set(xlabel='time(s)',ylabel='voltage(mV)',title='About as simple as it gets, folks!')\n",
    "ax.grid()"
   ]
  },
  {
   "cell_type": "code",
   "execution_count": null,
   "id": "b3e3aea3-13c8-4175-954e-25cac1835c73",
   "metadata": {},
   "outputs": [],
   "source": []
  }
 ],
 "metadata": {
  "kernelspec": {
   "display_name": "Python 3 (ipykernel)",
   "language": "python",
   "name": "python3"
  },
  "language_info": {
   "codemirror_mode": {
    "name": "ipython",
    "version": 3
   },
   "file_extension": ".py",
   "mimetype": "text/x-python",
   "name": "python",
   "nbconvert_exporter": "python",
   "pygments_lexer": "ipython3",
   "version": "3.12.6"
  }
 },
 "nbformat": 4,
 "nbformat_minor": 5
}
