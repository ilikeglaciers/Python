{
 "cells": [
  {
   "cell_type": "markdown",
   "id": "f2804379-807e-49fa-accf-93d0851a691a",
   "metadata": {},
   "source": [
    "#First Program"
   ]
  },
  {
   "cell_type": "code",
   "execution_count": 9,
   "id": "1821edd0-19af-4a4b-b723-003c38d6bec0",
   "metadata": {},
   "outputs": [
    {
     "name": "stdout",
     "output_type": "stream",
     "text": [
      "<class 'int'>\n",
      "<class 'str'>\n",
      "<class 'bool'>\n",
      "<class 'float'>\n",
      "<class 'complex'>\n"
     ]
    }
   ],
   "source": [
    "x = -1\n",
    "print(type(x))\n",
    "\n",
    "y = \"thisisastring\"\n",
    "print(type(y))\n",
    "\n",
    "z = True\n",
    "print(type(z))\n",
    "\n",
    "p = 1.01\n",
    "print(type(p))\n",
    "\n",
    "q = 9j\n",
    "print(type(q))\n",
    "\n",
    "#We use a hash to run a comment in python."
   ]
  },
  {
   "cell_type": "code",
   "execution_count": null,
   "id": "d2906cbc-33dc-4abf-a580-40f70d7e084a",
   "metadata": {},
   "outputs": [],
   "source": []
  }
 ],
 "metadata": {
  "kernelspec": {
   "display_name": "Python 3 (ipykernel)",
   "language": "python",
   "name": "python3"
  },
  "language_info": {
   "codemirror_mode": {
    "name": "ipython",
    "version": 3
   },
   "file_extension": ".py",
   "mimetype": "text/x-python",
   "name": "python",
   "nbconvert_exporter": "python",
   "pygments_lexer": "ipython3",
   "version": "3.12.6"
  }
 },
 "nbformat": 4,
 "nbformat_minor": 5
}
