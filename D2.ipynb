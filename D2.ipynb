{
 "cells": [
  {
   "cell_type": "code",
   "execution_count": 1,
   "id": "091d2bfd-a90d-4751-bfdf-fc51bc25dae2",
   "metadata": {},
   "outputs": [
    {
     "name": "stdout",
     "output_type": "stream",
     "text": [
      "False\n",
      "True\n",
      "True\n",
      "False\n",
      "False\n",
      "True\n",
      "False\n",
      "True\n"
     ]
    }
   ],
   "source": [
    "#bool function\n",
    "a=10\n",
    "b=20\n",
    "c=30\n",
    "\n",
    "print(bool(\"\"))\n",
    "print(bool(\"string\"))\n",
    "\n",
    "print(bool(12))\n",
    "print(bool(0))\n",
    "\n",
    "print(bool({}))\n",
    "print(bool({a,b,c}))\n",
    "\n",
    "print(bool([]))\n",
    "print(bool([a,b,c]))"
   ]
  },
  {
   "cell_type": "code",
   "execution_count": 2,
   "id": "21381a81-bccd-402a-b110-4f7fa1222ed7",
   "metadata": {},
   "outputs": [
    {
     "name": "stdout",
     "output_type": "stream",
     "text": [
      "81\n",
      "33\n"
     ]
    }
   ],
   "source": [
    "#operators\n",
    "#exponent\n",
    "print(9**2)\n",
    "\n",
    "#floor division\n",
    "print(100//3)"
   ]
  },
  {
   "cell_type": "code",
   "execution_count": 17,
   "id": "6f513450-69bc-419c-a09b-8808a07c74fd",
   "metadata": {},
   "outputs": [
    {
     "name": "stdout",
     "output_type": "stream",
     "text": [
      "[1, 'random']\n",
      "one two\n",
      "['one', 'two', 'two']\n",
      "3\n",
      "consructor\n",
      "[3, 4, 5]\n",
      "Yes, the string \"one\" is present in l1 list\n"
     ]
    }
   ],
   "source": [
    "#list operations\n",
    "l1 = [\"one\",\"two\",\"two\"]\n",
    "l2 = [1,2,3,4,5,6,7,8,9,10]\n",
    "l3 = [True,False]\n",
    "l4 = [1,\"random\"]\n",
    "\n",
    "#list constructor with two round brackets\n",
    "l5 = list((\"new\",\"list\",\"consructor\"))\n",
    "\n",
    "print(l4)\n",
    "print(l1[0],l1[1])\n",
    "print(l1)\n",
    "print(len(l1))\n",
    "print(l5[-1])\n",
    "print(l2[2:5])\n",
    "\n",
    "if 'one' in l1:\n",
    "    print(\"Yes, the string \\\"one\\\" is present in l1 list\")"
   ]
  },
  {
   "cell_type": "code",
   "execution_count": null,
   "id": "e6e192a8-cdcf-4a6d-b2fb-a796920e6079",
   "metadata": {},
   "outputs": [],
   "source": []
  }
 ],
 "metadata": {
  "kernelspec": {
   "display_name": "Python 3 (ipykernel)",
   "language": "python",
   "name": "python3"
  },
  "language_info": {
   "codemirror_mode": {
    "name": "ipython",
    "version": 3
   },
   "file_extension": ".py",
   "mimetype": "text/x-python",
   "name": "python",
   "nbconvert_exporter": "python",
   "pygments_lexer": "ipython3",
   "version": "3.12.6"
  }
 },
 "nbformat": 4,
 "nbformat_minor": 5
}
