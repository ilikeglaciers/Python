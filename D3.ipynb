{
 "cells": [
  {
   "cell_type": "code",
   "execution_count": 36,
   "id": "c75a9fa1-4169-4858-ad49-c2c9d80feac7",
   "metadata": {},
   "outputs": [
    {
     "name": "stdout",
     "output_type": "stream",
     "text": [
      "<re.Match object; span=(7, 13), match='sample'>\n",
      "<re.Match object; span=(2, 8), match='ltakes'>\n",
      "None\n",
      "<re.Match object; span=(0, 6), match='123456'>\n",
      "<re.Match object; span=(0, 1), match='e'>\n",
      "<re.Match object; span=(0, 1), match='a'>\n",
      "<re.Match object; span=(0, 1), match='$'>\n",
      "<re.Match object; span=(5, 8), match='FGZ'>\n"
     ]
    }
   ],
   "source": [
    "#regular expressions\n",
    "import re\n",
    "str1 = \"thisisasamplestring\"\n",
    "print(re.search(\"sample\",str1))\n",
    "\n",
    "#metacharacters\n",
    "print(re.search('[all]take[s]','alltakesonyou')) # [ ]\n",
    "print(re.search('[i] like [the] ','i like the weeknd'))\n",
    "\n",
    "print(re.search('[0-9][0-9][0-9][0-9][0-9][0-9]','123456')) # -\n",
    "print(re.search('[^0-9]','elephant')) # ^\n",
    "print(re.search('[a-z|A-Z|0-9]','a')) # |\n",
    "print(re.search('[a-z|$]','$2.47'))\n",
    "print(re.search('..Z','ABCDEFGZ'))"
   ]
  },
  {
   "cell_type": "code",
   "execution_count": 41,
   "id": "a7d24835-aa29-4e6e-b650-5ad29556d27e",
   "metadata": {},
   "outputs": [
    {
     "name": "stdout",
     "output_type": "stream",
     "text": [
      "<re.Match object; span=(0, 3), match='bud'>\n",
      "None\n",
      "<re.Match object; span=(6, 9), match='Zeb'>\n",
      "<re.Match object; span=(4, 9), match='align'>\n"
     ]
    }
   ],
   "source": [
    "#Regex Anchors\n",
    "import re\n",
    "print(re.search('^bud','buddy'))\n",
    "print(re.search('^bud','dummy'))\n",
    "\n",
    "print(re.search('Zeb$','ronicsZeb'))\n",
    "print(re.search('align$','postalign'))"
   ]
  },
  {
   "cell_type": "code",
   "execution_count": 42,
   "id": "31a31473-f5fa-45b3-80ce-210ca7c26350",
   "metadata": {},
   "outputs": [
    {
     "name": "stdout",
     "output_type": "stream",
     "text": [
      "False\n",
      "True\n"
     ]
    }
   ],
   "source": [
    "#all() and any()\n",
    "a,b,c=10,20,30\n",
    "x=all((a>5,b<2,c>20))\n",
    "print(x)\n",
    "\n",
    "y=any((a>5,b<2,c>20))\n",
    "print(y)"
   ]
  },
  {
   "cell_type": "code",
   "execution_count": 47,
   "id": "e961f435-5a9e-4d4d-b5de-27bc4636bae0",
   "metadata": {},
   "outputs": [
    {
     "name": "stdin",
     "output_type": "stream",
     "text": [
      "Type a name:  Rahul\n",
      "Type the age:  20\n",
      "Type your marks:  99\n"
     ]
    },
    {
     "name": "stdout",
     "output_type": "stream",
     "text": [
      "Rahul whose age is 20 has scored 99.0 percentage in his/her exams\n"
     ]
    }
   ],
   "source": [
    "s = input(\"Type a name: \")\n",
    "y = int(input(\"Type the age: \"))\n",
    "m = float(input(\"Type your marks: \"))\n",
    "print(s+\" whose age is \"+str(y)+\" has scored \"+str(m)+\" percentage in his/her exams\")"
   ]
  },
  {
   "cell_type": "code",
   "execution_count": null,
   "id": "c129b740-656f-466c-aa3b-d07d2f39e6c9",
   "metadata": {},
   "outputs": [],
   "source": []
  }
 ],
 "metadata": {
  "kernelspec": {
   "display_name": "Python 3 (ipykernel)",
   "language": "python",
   "name": "python3"
  },
  "language_info": {
   "codemirror_mode": {
    "name": "ipython",
    "version": 3
   },
   "file_extension": ".py",
   "mimetype": "text/x-python",
   "name": "python",
   "nbconvert_exporter": "python",
   "pygments_lexer": "ipython3",
   "version": "3.12.6"
  }
 },
 "nbformat": 4,
 "nbformat_minor": 5
}
