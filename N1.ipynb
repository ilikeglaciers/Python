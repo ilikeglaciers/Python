{
 "cells": [
  {
   "cell_type": "code",
   "execution_count": 1,
   "id": "63ccd731-a291-462a-9c6c-38ee0e37d161",
   "metadata": {},
   "outputs": [
    {
     "name": "stdout",
     "output_type": "stream",
     "text": [
      "[1 2 3 4 5]\n",
      "<class 'numpy.ndarray'>\n"
     ]
    }
   ],
   "source": [
    "import numpy as np\n",
    "arr = np.array([1,2,3,4,5])\n",
    "print(arr)\n",
    "print(type(arr))"
   ]
  },
  {
   "cell_type": "code",
   "execution_count": 9,
   "id": "defc9677-c691-4e25-9ea2-ef133f1ac7bb",
   "metadata": {},
   "outputs": [
    {
     "name": "stdout",
     "output_type": "stream",
     "text": [
      "['a' 'b' 'c' 'd' 'e']\n",
      "<class 'numpy.ndarray'>\n",
      "[[[1 2 3]\n",
      "  [4 5 6]]\n",
      "\n",
      " [[3 6 9]\n",
      "  [2 4 8]]]\n",
      "[0, 1, 2, 3]\n",
      "[[[[[1 2 3 4 5]]]]]\n"
     ]
    }
   ],
   "source": [
    "#using tuple to create an array\n",
    "import numpy as np\n",
    "ar1 = np.array(('a','b','c','d','e'))\n",
    "print(ar1)\n",
    "print(type(ar1))\n",
    "\n",
    "#0D array\n",
    "a1 = np.array(45)\n",
    "\n",
    "#1D array\n",
    "a2 = np.array([1,2,3,4,5])\n",
    "\n",
    "#2D array\n",
    "a3 = np.array([[1,2,3],[4,5,6]])\n",
    "\n",
    "#3D array\n",
    "a4 = np.array([[[1,2,3],[4,5,6]],[[3,6,9],[2,4,8]]])\n",
    "print(a4)\n",
    "\n",
    "#printing number of dimensions of array\n",
    "print([a1.ndim,a2.ndim,a3.ndim,a4.ndim])\n",
    "\n",
    "a5 = np.array([1,2,3,4,5],ndmin=5)\n",
    "print(a5)"
   ]
  },
  {
   "cell_type": "code",
   "execution_count": 17,
   "id": "373e5838-c6fb-4fa7-a75d-b136ef6975ae",
   "metadata": {},
   "outputs": [
    {
     "name": "stdout",
     "output_type": "stream",
     "text": [
      "1 2\n",
      "2\n",
      "6\n",
      "6\n"
     ]
    }
   ],
   "source": [
    "import numpy as np\n",
    "\n",
    "#accessing 1D array elements\n",
    "one = np.array([1,2,3,4,5])\n",
    "print(one[0],one[1])\n",
    "\n",
    "#accessing 2D array elements\n",
    "two = np.array([[1,2,3],[4,5,6]])\n",
    "print(two[0,1])\n",
    "\n",
    "#accessing 3D array elements\n",
    "three = np.array([[[1,2,3],[4,5,6]],[[3,6,9],[4,5,7]]])\n",
    "print(three[0,1,2])\n",
    "\n",
    "#negative indexing\n",
    "print(three[0,1,-1])"
   ]
  },
  {
   "cell_type": "code",
   "execution_count": 29,
   "id": "898e6d20-e37b-4a48-951f-f19a115a946d",
   "metadata": {},
   "outputs": [
    {
     "name": "stdout",
     "output_type": "stream",
     "text": [
      "[2 3 4]\n",
      "[ 1  2  3  4  5  6  7  8  9 10]\n",
      "[8 9]\n",
      "[2 4 6]\n",
      "[1 3 5 7 9]\n",
      "[6 7]\n"
     ]
    }
   ],
   "source": [
    "import numpy as np\n",
    "\n",
    "#array slicing\n",
    "b1 = np.array([1,2,3,4,5,6,7,8,9,10])\n",
    "print(b1[1:4])\n",
    "\n",
    "#to the end of array\n",
    "print(b1[0:])\n",
    "\n",
    "#Negative SLicing\n",
    "print(b1[-3:-1])\n",
    "\n",
    "#step = every other element type operations\n",
    "print(b1[1:7:2])\n",
    "\n",
    "#return every other element from the array\n",
    "print(b1[::2])\n",
    "\n",
    "#slicing 2D array\n",
    "b2 = np.array([[1,2,3,4],[5,6,7,8]])\n",
    "print(b2[1,1:3])"
   ]
  },
  {
   "cell_type": "code",
   "execution_count": 1,
   "id": "6945cdf4-9270-4890-a864-1d1e03db9baf",
   "metadata": {},
   "outputs": [
    {
     "name": "stdout",
     "output_type": "stream",
     "text": [
      "int64\n",
      "<U5\n"
     ]
    }
   ],
   "source": [
    "#Numpy Datatypes\n",
    "import numpy as np\n",
    "d1 = np.array([1,2,3,4,5])\n",
    "d2 = np.array([\"abc\",\"bcd\",\"cghyr\"])\n",
    "\n",
    "print(d1.dtype)\n",
    "print(d2.dtype)"
   ]
  },
  {
   "cell_type": "code",
   "execution_count": 5,
   "id": "192e559d-ad99-456d-b054-c618676be337",
   "metadata": {},
   "outputs": [
    {
     "name": "stdout",
     "output_type": "stream",
     "text": [
      "[b'1' b'2' b'3' b'4' b'5']\n",
      "|S1\n",
      "float64\n",
      "int32\n"
     ]
    }
   ],
   "source": [
    "#defining datatypes\n",
    "import numpy as np\n",
    "e1 = np.array([1,2,3,4,5],dtype='S')\n",
    "print(e1)\n",
    "print(e1.dtype)\n",
    "\n",
    "e2 = np.array([1.1,2.2,3.3,4.4,5.5])\n",
    "newArr = e2.astype('i')\n",
    "print(e2.dtype)\n",
    "print(newArr.dtype)"
   ]
  },
  {
   "cell_type": "code",
   "execution_count": 10,
   "id": "ba0696e1-4c0e-4221-9933-b22a313947e9",
   "metadata": {},
   "outputs": [
    {
     "name": "stdout",
     "output_type": "stream",
     "text": [
      "[0 2 3 4 5]\n",
      "[1 2 3 4 5]\n",
      "[0 1 3 4 5]\n",
      "[0 1 3 4 5]\n",
      "None\n"
     ]
    }
   ],
   "source": [
    "#copy and view\n",
    "import numpy as np\n",
    "q1 = np.array([1,2,3,4,5])\n",
    "newQ = q1.copy()\n",
    "q1[0] = 0\n",
    "\n",
    "print(q1)\n",
    "print(newQ)\n",
    "\n",
    "q1[1] = 1\n",
    "newQQ = q1.view()\n",
    "print(newQQ)\n",
    "\n",
    "x = q1.view()\n",
    "y = q1.copy()\n",
    "\n",
    "print(x.base) #view owns the data\n",
    "print(y.base) #copy doesn't own the data"
   ]
  },
  {
   "cell_type": "code",
   "execution_count": null,
   "id": "01357b99-d07c-4206-8249-df5c06ca1940",
   "metadata": {},
   "outputs": [],
   "source": []
  }
 ],
 "metadata": {
  "kernelspec": {
   "display_name": "Python 3 (ipykernel)",
   "language": "python",
   "name": "python3"
  },
  "language_info": {
   "codemirror_mode": {
    "name": "ipython",
    "version": 3
   },
   "file_extension": ".py",
   "mimetype": "text/x-python",
   "name": "python",
   "nbconvert_exporter": "python",
   "pygments_lexer": "ipython3",
   "version": "3.12.6"
  }
 },
 "nbformat": 4,
 "nbformat_minor": 5
}
